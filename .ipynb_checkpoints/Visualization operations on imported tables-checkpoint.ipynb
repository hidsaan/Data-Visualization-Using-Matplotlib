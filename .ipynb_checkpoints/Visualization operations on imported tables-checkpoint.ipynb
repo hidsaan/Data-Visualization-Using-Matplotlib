{
 "cells": [
  {
   "cell_type": "code",
   "execution_count": 16,
   "id": "fc24b1c3-b10f-40a2-9cfa-e220d1ec476b",
   "metadata": {},
   "outputs": [],
   "source": [
    "import pandas as pd\n",
    "import matplotlib.pyplot as plt\n",
    "\n",
    "#Import the files:\n",
    "data=pd.read_csv('goalscorers.csv')\n",
    "data1=pd.read_csv('results.csv')"
   ]
  },
  {
   "cell_type": "code",
   "execution_count": 2,
   "id": "0fa29b8f-fd18-479e-8595-483ac2094539",
   "metadata": {},
   "outputs": [
    {
     "data": {
      "text/html": [
       "<div>\n",
       "<style scoped>\n",
       "    .dataframe tbody tr th:only-of-type {\n",
       "        vertical-align: middle;\n",
       "    }\n",
       "\n",
       "    .dataframe tbody tr th {\n",
       "        vertical-align: top;\n",
       "    }\n",
       "\n",
       "    .dataframe thead th {\n",
       "        text-align: right;\n",
       "    }\n",
       "</style>\n",
       "<table border=\"1\" class=\"dataframe\">\n",
       "  <thead>\n",
       "    <tr style=\"text-align: right;\">\n",
       "      <th></th>\n",
       "      <th>date</th>\n",
       "      <th>home_team</th>\n",
       "      <th>away_team</th>\n",
       "      <th>team</th>\n",
       "      <th>scorer</th>\n",
       "      <th>minute</th>\n",
       "      <th>own_goal</th>\n",
       "      <th>penalty</th>\n",
       "    </tr>\n",
       "  </thead>\n",
       "  <tbody>\n",
       "    <tr>\n",
       "      <th>0</th>\n",
       "      <td>1916-07-02</td>\n",
       "      <td>Chile</td>\n",
       "      <td>Uruguay</td>\n",
       "      <td>Uruguay</td>\n",
       "      <td>José Piendibene</td>\n",
       "      <td>44.0</td>\n",
       "      <td>False</td>\n",
       "      <td>False</td>\n",
       "    </tr>\n",
       "    <tr>\n",
       "      <th>1</th>\n",
       "      <td>1916-07-02</td>\n",
       "      <td>Chile</td>\n",
       "      <td>Uruguay</td>\n",
       "      <td>Uruguay</td>\n",
       "      <td>Isabelino Gradín</td>\n",
       "      <td>55.0</td>\n",
       "      <td>False</td>\n",
       "      <td>False</td>\n",
       "    </tr>\n",
       "    <tr>\n",
       "      <th>2</th>\n",
       "      <td>1916-07-02</td>\n",
       "      <td>Chile</td>\n",
       "      <td>Uruguay</td>\n",
       "      <td>Uruguay</td>\n",
       "      <td>Isabelino Gradín</td>\n",
       "      <td>70.0</td>\n",
       "      <td>False</td>\n",
       "      <td>False</td>\n",
       "    </tr>\n",
       "    <tr>\n",
       "      <th>3</th>\n",
       "      <td>1916-07-02</td>\n",
       "      <td>Chile</td>\n",
       "      <td>Uruguay</td>\n",
       "      <td>Uruguay</td>\n",
       "      <td>José Piendibene</td>\n",
       "      <td>75.0</td>\n",
       "      <td>False</td>\n",
       "      <td>False</td>\n",
       "    </tr>\n",
       "    <tr>\n",
       "      <th>4</th>\n",
       "      <td>1916-07-06</td>\n",
       "      <td>Argentina</td>\n",
       "      <td>Chile</td>\n",
       "      <td>Argentina</td>\n",
       "      <td>Alberto Ohaco</td>\n",
       "      <td>2.0</td>\n",
       "      <td>False</td>\n",
       "      <td>False</td>\n",
       "    </tr>\n",
       "  </tbody>\n",
       "</table>\n",
       "</div>"
      ],
      "text/plain": [
       "         date  home_team away_team       team            scorer  minute  \\\n",
       "0  1916-07-02      Chile   Uruguay    Uruguay   José Piendibene    44.0   \n",
       "1  1916-07-02      Chile   Uruguay    Uruguay  Isabelino Gradín    55.0   \n",
       "2  1916-07-02      Chile   Uruguay    Uruguay  Isabelino Gradín    70.0   \n",
       "3  1916-07-02      Chile   Uruguay    Uruguay   José Piendibene    75.0   \n",
       "4  1916-07-06  Argentina     Chile  Argentina     Alberto Ohaco     2.0   \n",
       "\n",
       "   own_goal  penalty  \n",
       "0     False    False  \n",
       "1     False    False  \n",
       "2     False    False  \n",
       "3     False    False  \n",
       "4     False    False  "
      ]
     },
     "execution_count": 2,
     "metadata": {},
     "output_type": "execute_result"
    }
   ],
   "source": [
    "data.head()"
   ]
  },
  {
   "cell_type": "code",
   "execution_count": 23,
   "id": "489048af-b6de-4b3d-b7d5-a27e963928f5",
   "metadata": {},
   "outputs": [
    {
     "data": {
      "text/html": [
       "<div>\n",
       "<style scoped>\n",
       "    .dataframe tbody tr th:only-of-type {\n",
       "        vertical-align: middle;\n",
       "    }\n",
       "\n",
       "    .dataframe tbody tr th {\n",
       "        vertical-align: top;\n",
       "    }\n",
       "\n",
       "    .dataframe thead th {\n",
       "        text-align: right;\n",
       "    }\n",
       "</style>\n",
       "<table border=\"1\" class=\"dataframe\">\n",
       "  <thead>\n",
       "    <tr style=\"text-align: right;\">\n",
       "      <th></th>\n",
       "      <th>date</th>\n",
       "      <th>home_team</th>\n",
       "      <th>away_team</th>\n",
       "      <th>home_score</th>\n",
       "      <th>away_score</th>\n",
       "      <th>tournament</th>\n",
       "      <th>city</th>\n",
       "      <th>country</th>\n",
       "      <th>neutral</th>\n",
       "    </tr>\n",
       "  </thead>\n",
       "  <tbody>\n",
       "    <tr>\n",
       "      <th>0</th>\n",
       "      <td>1872-11-30</td>\n",
       "      <td>Scotland</td>\n",
       "      <td>England</td>\n",
       "      <td>0.0</td>\n",
       "      <td>0.0</td>\n",
       "      <td>Friendly</td>\n",
       "      <td>Glasgow</td>\n",
       "      <td>Scotland</td>\n",
       "      <td>False</td>\n",
       "    </tr>\n",
       "    <tr>\n",
       "      <th>1</th>\n",
       "      <td>1873-03-08</td>\n",
       "      <td>England</td>\n",
       "      <td>Scotland</td>\n",
       "      <td>4.0</td>\n",
       "      <td>2.0</td>\n",
       "      <td>Friendly</td>\n",
       "      <td>London</td>\n",
       "      <td>England</td>\n",
       "      <td>False</td>\n",
       "    </tr>\n",
       "    <tr>\n",
       "      <th>2</th>\n",
       "      <td>1874-03-07</td>\n",
       "      <td>Scotland</td>\n",
       "      <td>England</td>\n",
       "      <td>2.0</td>\n",
       "      <td>1.0</td>\n",
       "      <td>Friendly</td>\n",
       "      <td>Glasgow</td>\n",
       "      <td>Scotland</td>\n",
       "      <td>False</td>\n",
       "    </tr>\n",
       "    <tr>\n",
       "      <th>3</th>\n",
       "      <td>1875-03-06</td>\n",
       "      <td>England</td>\n",
       "      <td>Scotland</td>\n",
       "      <td>2.0</td>\n",
       "      <td>2.0</td>\n",
       "      <td>Friendly</td>\n",
       "      <td>London</td>\n",
       "      <td>England</td>\n",
       "      <td>False</td>\n",
       "    </tr>\n",
       "    <tr>\n",
       "      <th>4</th>\n",
       "      <td>1876-03-04</td>\n",
       "      <td>Scotland</td>\n",
       "      <td>England</td>\n",
       "      <td>3.0</td>\n",
       "      <td>0.0</td>\n",
       "      <td>Friendly</td>\n",
       "      <td>Glasgow</td>\n",
       "      <td>Scotland</td>\n",
       "      <td>False</td>\n",
       "    </tr>\n",
       "  </tbody>\n",
       "</table>\n",
       "</div>"
      ],
      "text/plain": [
       "         date home_team away_team  home_score  away_score tournament     city  \\\n",
       "0  1872-11-30  Scotland   England         0.0         0.0   Friendly  Glasgow   \n",
       "1  1873-03-08   England  Scotland         4.0         2.0   Friendly   London   \n",
       "2  1874-03-07  Scotland   England         2.0         1.0   Friendly  Glasgow   \n",
       "3  1875-03-06   England  Scotland         2.0         2.0   Friendly   London   \n",
       "4  1876-03-04  Scotland   England         3.0         0.0   Friendly  Glasgow   \n",
       "\n",
       "    country  neutral  \n",
       "0  Scotland    False  \n",
       "1   England    False  \n",
       "2  Scotland    False  \n",
       "3   England    False  \n",
       "4  Scotland    False  "
      ]
     },
     "execution_count": 23,
     "metadata": {},
     "output_type": "execute_result"
    }
   ],
   "source": [
    "data1.head()"
   ]
  },
  {
   "cell_type": "code",
   "execution_count": 17,
   "id": "e37fbc89-b1b4-4544-8407-76b6680e48a8",
   "metadata": {},
   "outputs": [
    {
     "data": {
      "text/plain": [
       "team\n",
       "Brazil           1051\n",
       "Germany           974\n",
       "Argentina         945\n",
       "Spain             890\n",
       "Mexico            852\n",
       "                 ... \n",
       "Eritrea             4\n",
       "Somalia             3\n",
       "Anguilla            2\n",
       "South Sudan         2\n",
       "French Guiana       2\n",
       "Name: count, Length: 220, dtype: int64"
      ]
     },
     "execution_count": 17,
     "metadata": {},
     "output_type": "execute_result"
    }
   ],
   "source": [
    "#Running a value counts on teams column to get the number of wins for each team and store that data in 'winCounts' variable:\n",
    "winCounts=data['team'].value_counts()\n",
    "winCounts"
   ]
  },
  {
   "cell_type": "code",
   "execution_count": 18,
   "id": "17250157-a53d-43a0-81e5-e075493d8e4f",
   "metadata": {},
   "outputs": [],
   "source": [
    "#Using the winCounts variable to turn the above given result into a csv file:\n",
    "winCounts.to_csv('TopWinners.csv')"
   ]
  },
  {
   "cell_type": "code",
   "execution_count": 20,
   "id": "703bf0f1-97e2-43b6-a8ba-0f5786d990b4",
   "metadata": {},
   "outputs": [
    {
     "data": {
      "text/html": [
       "<div>\n",
       "<style scoped>\n",
       "    .dataframe tbody tr th:only-of-type {\n",
       "        vertical-align: middle;\n",
       "    }\n",
       "\n",
       "    .dataframe tbody tr th {\n",
       "        vertical-align: top;\n",
       "    }\n",
       "\n",
       "    .dataframe thead th {\n",
       "        text-align: right;\n",
       "    }\n",
       "</style>\n",
       "<table border=\"1\" class=\"dataframe\">\n",
       "  <thead>\n",
       "    <tr style=\"text-align: right;\">\n",
       "      <th></th>\n",
       "      <th>team</th>\n",
       "      <th>count</th>\n",
       "    </tr>\n",
       "  </thead>\n",
       "  <tbody>\n",
       "    <tr>\n",
       "      <th>0</th>\n",
       "      <td>Brazil</td>\n",
       "      <td>1051</td>\n",
       "    </tr>\n",
       "    <tr>\n",
       "      <th>1</th>\n",
       "      <td>Germany</td>\n",
       "      <td>974</td>\n",
       "    </tr>\n",
       "    <tr>\n",
       "      <th>2</th>\n",
       "      <td>Argentina</td>\n",
       "      <td>945</td>\n",
       "    </tr>\n",
       "    <tr>\n",
       "      <th>3</th>\n",
       "      <td>Spain</td>\n",
       "      <td>890</td>\n",
       "    </tr>\n",
       "    <tr>\n",
       "      <th>4</th>\n",
       "      <td>Mexico</td>\n",
       "      <td>852</td>\n",
       "    </tr>\n",
       "  </tbody>\n",
       "</table>\n",
       "</div>"
      ],
      "text/plain": [
       "        team  count\n",
       "0     Brazil   1051\n",
       "1    Germany    974\n",
       "2  Argentina    945\n",
       "3      Spain    890\n",
       "4     Mexico    852"
      ]
     },
     "execution_count": 20,
     "metadata": {},
     "output_type": "execute_result"
    }
   ],
   "source": [
    "#importing the newly made csv file:\n",
    "winTable=pd.read_csv('TopWinners.csv')\n",
    "\n",
    "winTable.head()"
   ]
  },
  {
   "cell_type": "code",
   "execution_count": 21,
   "id": "67161695-1839-4f24-bdca-df3a017801b8",
   "metadata": {},
   "outputs": [
    {
     "data": {
      "text/html": [
       "<div>\n",
       "<style scoped>\n",
       "    .dataframe tbody tr th:only-of-type {\n",
       "        vertical-align: middle;\n",
       "    }\n",
       "\n",
       "    .dataframe tbody tr th {\n",
       "        vertical-align: top;\n",
       "    }\n",
       "\n",
       "    .dataframe thead th {\n",
       "        text-align: right;\n",
       "    }\n",
       "</style>\n",
       "<table border=\"1\" class=\"dataframe\">\n",
       "  <thead>\n",
       "    <tr style=\"text-align: right;\">\n",
       "      <th></th>\n",
       "      <th>team</th>\n",
       "      <th>count</th>\n",
       "    </tr>\n",
       "  </thead>\n",
       "  <tbody>\n",
       "    <tr>\n",
       "      <th>0</th>\n",
       "      <td>Brazil</td>\n",
       "      <td>1051</td>\n",
       "    </tr>\n",
       "    <tr>\n",
       "      <th>1</th>\n",
       "      <td>Germany</td>\n",
       "      <td>974</td>\n",
       "    </tr>\n",
       "    <tr>\n",
       "      <th>2</th>\n",
       "      <td>Argentina</td>\n",
       "      <td>945</td>\n",
       "    </tr>\n",
       "    <tr>\n",
       "      <th>3</th>\n",
       "      <td>Spain</td>\n",
       "      <td>890</td>\n",
       "    </tr>\n",
       "    <tr>\n",
       "      <th>4</th>\n",
       "      <td>Mexico</td>\n",
       "      <td>852</td>\n",
       "    </tr>\n",
       "  </tbody>\n",
       "</table>\n",
       "</div>"
      ],
      "text/plain": [
       "        team  count\n",
       "0     Brazil   1051\n",
       "1    Germany    974\n",
       "2  Argentina    945\n",
       "3      Spain    890\n",
       "4     Mexico    852"
      ]
     },
     "execution_count": 21,
     "metadata": {},
     "output_type": "execute_result"
    }
   ],
   "source": [
    "#Selecting the top 5 entries by their indexes using loc() function and storing the result in 'topWinners' variable:\n",
    "topWinners=winTable.loc[0:4]\n",
    "topWinners"
   ]
  },
  {
   "cell_type": "code",
   "execution_count": 35,
   "id": "4489d2c4-2629-4e9a-842b-b01929553469",
   "metadata": {},
   "outputs": [
    {
     "data": {
      "image/png": "[encoded data removed]",
      "text/plain": [
       "<Figure size 640x480 with 1 Axes>"
      ]
     },
     "metadata": {},
     "output_type": "display_data"
    }
   ],
   "source": [
    "#From topWinners, we plot the team column vs count column:\n",
    "x=topWinners['team']\n",
    "y=topWinners['count']\n",
    "\n",
    "plt.bar(x,y)\n",
    "plt.title('Countries With Most Wins')\n",
    "plt.xlabel('Countries')\n",
    "plt.ylabel('Matches Won')\n",
    "\n",
    "plt.show()"
   ]
  },
  {
   "cell_type": "code",
   "execution_count": 31,
   "id": "5b559166-df9b-496b-afab-ef16bc625be6",
   "metadata": {},
   "outputs": [
    {
     "data": {
      "text/plain": [
       "home_team\n",
       "Brazil              1023\n",
       "Argentina            989\n",
       "Germany              798\n",
       "Mexico               707\n",
       "France               667\n",
       "                    ... \n",
       "Somalia                5\n",
       "Yemen DPR              5\n",
       "Vietnam Republic       4\n",
       "South Sudan            4\n",
       "Saarland               4\n",
       "Name: count, Length: 220, dtype: int64"
      ]
     },
     "execution_count": 31,
     "metadata": {},
     "output_type": "execute_result"
    }
   ],
   "source": [
    "#Problem 1: Team that has played most of the matches:\n",
    "mostMatches= data['home_team'].value_counts() #Brazil has hosted and played the most matches\n",
    "mostMatches"
   ]
  },
  {
   "cell_type": "code",
   "execution_count": 30,
   "id": "3e765a44-1026-47b9-b3bf-7886936e8cbe",
   "metadata": {},
   "outputs": [],
   "source": [
    "mostMatches.to_csv('MostMatches.csv')"
   ]
  },
  {
   "cell_type": "code",
   "execution_count": 34,
   "id": "858841e3-9aa2-4f87-b4c3-e59cf7a4b914",
   "metadata": {},
   "outputs": [
    {
     "data": {
      "text/html": [
       "<div>\n",
       "<style scoped>\n",
       "    .dataframe tbody tr th:only-of-type {\n",
       "        vertical-align: middle;\n",
       "    }\n",
       "\n",
       "    .dataframe tbody tr th {\n",
       "        vertical-align: top;\n",
       "    }\n",
       "\n",
       "    .dataframe thead th {\n",
       "        text-align: right;\n",
       "    }\n",
       "</style>\n",
       "<table border=\"1\" class=\"dataframe\">\n",
       "  <thead>\n",
       "    <tr style=\"text-align: right;\">\n",
       "      <th></th>\n",
       "      <th>home_team</th>\n",
       "      <th>count</th>\n",
       "    </tr>\n",
       "  </thead>\n",
       "  <tbody>\n",
       "    <tr>\n",
       "      <th>0</th>\n",
       "      <td>Brazil</td>\n",
       "      <td>1023</td>\n",
       "    </tr>\n",
       "    <tr>\n",
       "      <th>1</th>\n",
       "      <td>Argentina</td>\n",
       "      <td>989</td>\n",
       "    </tr>\n",
       "    <tr>\n",
       "      <th>2</th>\n",
       "      <td>Germany</td>\n",
       "      <td>798</td>\n",
       "    </tr>\n",
       "    <tr>\n",
       "      <th>3</th>\n",
       "      <td>Mexico</td>\n",
       "      <td>707</td>\n",
       "    </tr>\n",
       "    <tr>\n",
       "      <th>4</th>\n",
       "      <td>France</td>\n",
       "      <td>667</td>\n",
       "    </tr>\n",
       "  </tbody>\n",
       "</table>\n",
       "</div>"
      ],
      "text/plain": [
       "   home_team  count\n",
       "0     Brazil   1023\n",
       "1  Argentina    989\n",
       "2    Germany    798\n",
       "3     Mexico    707\n",
       "4     France    667"
      ]
     },
     "execution_count": 34,
     "metadata": {},
     "output_type": "execute_result"
    }
   ],
   "source": [
    "#problem 2: Bar graph of the teams with most matches\n",
    "matches=pd.read_csv('MostMatches.csv')\n",
    "\n",
    "matches.head()\n",
    "\n",
    "topMatches=matches.loc[0:4]\n",
    "topMatches"
   ]
  },
  {
   "cell_type": "code",
   "execution_count": 37,
   "id": "1228f602-f79d-47d6-acfe-0f7133928871",
   "metadata": {},
   "outputs": [
    {
     "data": {
      "image/png": "[encoded data removed]",
      "text/plain": [
       "<Figure size 640x480 with 1 Axes>"
      ]
     },
     "metadata": {},
     "output_type": "display_data"
    }
   ],
   "source": [
    "#Problem 2 solved:\n",
    "x=topMatches['home_team']\n",
    "y=topMatches['count']\n",
    "\n",
    "plt.bar(x,y)\n",
    "\n",
    "plt.title('Countries With Most Played Matches')\n",
    "plt.xlabel('Countries')\n",
    "plt.ylabel('Matches')\n",
    "\n",
    "plt.show()"
   ]
  },
  {
   "cell_type": "code",
   "execution_count": 72,
   "id": "1e3768b2-0e47-4f26-90c6-797a5ee3abc6",
   "metadata": {},
   "outputs": [
    {
     "data": {
      "text/plain": [
       "scorer\n",
       "Cristiano Ronaldo     108\n",
       "Robert Lewandowski     63\n",
       "Romelu Lukaku          60\n",
       "Harry Kane             57\n",
       "Lionel Messi           54\n",
       "                     ... \n",
       "Patrick Mayo            1\n",
       "Joel Lupahla            1\n",
       "Habib Beye              1\n",
       "Dramane Traoré          1\n",
       "Kevin Rodríguez         1\n",
       "Name: count, Length: 14331, dtype: int64"
      ]
     },
     "execution_count": 72,
     "metadata": {},
     "output_type": "execute_result"
    }
   ],
   "source": [
    "#problem 3: Bar graph and scatter plot of players with most goals\n",
    "scorers= data['scorer'].value_counts()\n",
    "scorers"
   ]
  },
  {
   "cell_type": "code",
   "execution_count": 40,
   "id": "e5547243-fa67-45da-9164-ce4bc44d56c2",
   "metadata": {},
   "outputs": [],
   "source": [
    "scorers.to_csv('Scorers.csv')"
   ]
  },
  {
   "cell_type": "code",
   "execution_count": 53,
   "id": "1d119e93-8613-4554-80f3-61c2814be391",
   "metadata": {},
   "outputs": [
    {
     "data": {
      "text/html": [
       "<div>\n",
       "<style scoped>\n",
       "    .dataframe tbody tr th:only-of-type {\n",
       "        vertical-align: middle;\n",
       "    }\n",
       "\n",
       "    .dataframe tbody tr th {\n",
       "        vertical-align: top;\n",
       "    }\n",
       "\n",
       "    .dataframe thead th {\n",
       "        text-align: right;\n",
       "    }\n",
       "</style>\n",
       "<table border=\"1\" class=\"dataframe\">\n",
       "  <thead>\n",
       "    <tr style=\"text-align: right;\">\n",
       "      <th></th>\n",
       "      <th>scorer</th>\n",
       "      <th>count</th>\n",
       "    </tr>\n",
       "  </thead>\n",
       "  <tbody>\n",
       "    <tr>\n",
       "      <th>0</th>\n",
       "      <td>Cristiano Ronaldo</td>\n",
       "      <td>108</td>\n",
       "    </tr>\n",
       "    <tr>\n",
       "      <th>1</th>\n",
       "      <td>Robert Lewandowski</td>\n",
       "      <td>63</td>\n",
       "    </tr>\n",
       "    <tr>\n",
       "      <th>2</th>\n",
       "      <td>Romelu Lukaku</td>\n",
       "      <td>60</td>\n",
       "    </tr>\n",
       "    <tr>\n",
       "      <th>3</th>\n",
       "      <td>Harry Kane</td>\n",
       "      <td>57</td>\n",
       "    </tr>\n",
       "    <tr>\n",
       "      <th>4</th>\n",
       "      <td>Lionel Messi</td>\n",
       "      <td>54</td>\n",
       "    </tr>\n",
       "    <tr>\n",
       "      <th>5</th>\n",
       "      <td>Edin Džeko</td>\n",
       "      <td>50</td>\n",
       "    </tr>\n",
       "    <tr>\n",
       "      <th>6</th>\n",
       "      <td>Ali Daei</td>\n",
       "      <td>49</td>\n",
       "    </tr>\n",
       "    <tr>\n",
       "      <th>7</th>\n",
       "      <td>Miroslav Klose</td>\n",
       "      <td>48</td>\n",
       "    </tr>\n",
       "    <tr>\n",
       "      <th>8</th>\n",
       "      <td>Carlos Ruiz</td>\n",
       "      <td>47</td>\n",
       "    </tr>\n",
       "    <tr>\n",
       "      <th>9</th>\n",
       "      <td>Aleksandar Mitrović</td>\n",
       "      <td>47</td>\n",
       "    </tr>\n",
       "  </tbody>\n",
       "</table>\n",
       "</div>"
      ],
      "text/plain": [
       "                scorer  count\n",
       "0    Cristiano Ronaldo    108\n",
       "1   Robert Lewandowski     63\n",
       "2        Romelu Lukaku     60\n",
       "3           Harry Kane     57\n",
       "4         Lionel Messi     54\n",
       "5           Edin Džeko     50\n",
       "6             Ali Daei     49\n",
       "7       Miroslav Klose     48\n",
       "8          Carlos Ruiz     47\n",
       "9  Aleksandar Mitrović     47"
      ]
     },
     "execution_count": 53,
     "metadata": {},
     "output_type": "execute_result"
    }
   ],
   "source": [
    "players=pd.read_csv('Scorers.csv')\n",
    "\n",
    "players.head()\n",
    "\n",
    "topScorers=players.loc[0:9]\n",
    "topScorers"
   ]
  },
  {
   "cell_type": "code",
   "execution_count": 55,
   "id": "556016cc-3ecc-4805-844c-107ea59769fa",
   "metadata": {},
   "outputs": [
    {
     "data": {
      "image/png": "[encoded data removed]",
      "text/plain": [
       "<Figure size 640x480 with 1 Axes>"
      ]
     },
     "metadata": {},
     "output_type": "display_data"
    }
   ],
   "source": [
    "#Problem 3 a) solved:\n",
    "x=topScorers['scorer']\n",
    "y=topScorers['count']\n",
    "\n",
    "plt.bar(x,y)\n",
    "\n",
    "plt.title('Players With Most Goals')\n",
    "plt.xlabel('Players')\n",
    "plt.ylabel('No. of Goals')\n",
    "plt.xticks(rotation=-90)\n",
    "\n",
    "plt.show()"
   ]
  },
  {
   "cell_type": "code",
   "execution_count": 59,
   "id": "c16011cb-5043-403b-b463-a97bac48f6a0",
   "metadata": {},
   "outputs": [
    {
     "data": {
      "image/png": "[encoded data removed]",
      "text/plain": [
       "<Figure size 640x480 with 1 Axes>"
      ]
     },
     "metadata": {},
     "output_type": "display_data"
    }
   ],
   "source": [
    "#Problem 3 b) solved:\n",
    "plt.scatter(x,y)\n",
    "\n",
    "plt.title('Players With Most Goals')\n",
    "plt.xlabel('Players')\n",
    "plt.ylabel('No. of Goals')\n",
    "plt.xticks(rotation=-90)\n",
    "\n",
    "plt.show()"
   ]
  },
  {
   "cell_type": "code",
   "execution_count": 63,
   "id": "ebbda3f7-263b-4254-8734-b657acea0384",
   "metadata": {},
   "outputs": [
    {
     "data": {
      "text/plain": [
       "own_goal\n",
       "False    43515\n",
       "True       820\n",
       "Name: count, dtype: int64"
      ]
     },
     "execution_count": 63,
     "metadata": {},
     "output_type": "execute_result"
    }
   ],
   "source": [
    "#Problem 4: pie chart for the matches in which own goal was scored:\n",
    "ownGoals= data['own_goal'].value_counts()\n",
    "ownGoals"
   ]
  },
  {
   "cell_type": "code",
   "execution_count": 64,
   "id": "49a46cbb-b748-4da6-af45-7663726e706d",
   "metadata": {},
   "outputs": [],
   "source": [
    "ownGoals.to_csv('OwnGoals.csv')"
   ]
  },
  {
   "cell_type": "code",
   "execution_count": 65,
   "id": "de5f2601-db62-405c-9a6f-c0f234efdabc",
   "metadata": {},
   "outputs": [
    {
     "data": {
      "text/html": [
       "<div>\n",
       "<style scoped>\n",
       "    .dataframe tbody tr th:only-of-type {\n",
       "        vertical-align: middle;\n",
       "    }\n",
       "\n",
       "    .dataframe tbody tr th {\n",
       "        vertical-align: top;\n",
       "    }\n",
       "\n",
       "    .dataframe thead th {\n",
       "        text-align: right;\n",
       "    }\n",
       "</style>\n",
       "<table border=\"1\" class=\"dataframe\">\n",
       "  <thead>\n",
       "    <tr style=\"text-align: right;\">\n",
       "      <th></th>\n",
       "      <th>own_goal</th>\n",
       "      <th>count</th>\n",
       "    </tr>\n",
       "  </thead>\n",
       "  <tbody>\n",
       "    <tr>\n",
       "      <th>0</th>\n",
       "      <td>False</td>\n",
       "      <td>43515</td>\n",
       "    </tr>\n",
       "    <tr>\n",
       "      <th>1</th>\n",
       "      <td>True</td>\n",
       "      <td>820</td>\n",
       "    </tr>\n",
       "  </tbody>\n",
       "</table>\n",
       "</div>"
      ],
      "text/plain": [
       "   own_goal  count\n",
       "0     False  43515\n",
       "1      True    820"
      ]
     },
     "execution_count": 65,
     "metadata": {},
     "output_type": "execute_result"
    }
   ],
   "source": [
    "goals=pd.read_csv('OwnGoals.csv')\n",
    "goals"
   ]
  },
  {
   "cell_type": "code",
   "execution_count": 69,
   "id": "a10b5dc7-f551-4c83-9109-bc0609f22ffe",
   "metadata": {},
   "outputs": [
    {
     "data": {
      "image/png": "[encoded data removed]",
      "text/plain": [
       "<Figure size 640x480 with 1 Axes>"
      ]
     },
     "metadata": {},
     "output_type": "display_data"
    }
   ],
   "source": [
    "#Problem 4 Solved:\n",
    "labels=goals['own_goal']\n",
    "size=goals['count']\n",
    "\n",
    "plt.pie(size, labels=labels, autopct='%1.00f%%')\n",
    "\n",
    "plt.title('Own goals Scored in 44335 Matches')\n",
    "\n",
    "plt.show()"
   ]
  },
  {
   "cell_type": "code",
   "execution_count": 73,
   "id": "53e0a283-1227-479c-9ccf-36c087fa88d4",
   "metadata": {},
   "outputs": [
    {
     "data": {
      "text/plain": [
       "city\n",
       "Kuala Lumpur      725\n",
       "Bangkok           571\n",
       "Doha              546\n",
       "London            427\n",
       "Budapest          423\n",
       "                 ... \n",
       "Almería             1\n",
       "Béziers             1\n",
       "Culiacán            1\n",
       "Barcelos            1\n",
       "Hradec Králové      1\n",
       "Name: count, Length: 2062, dtype: int64"
      ]
     },
     "execution_count": 73,
     "metadata": {},
     "output_type": "execute_result"
    }
   ],
   "source": [
    "#Problem 5: Cities and Countries that hosted maximum matches:\n",
    "cities=data1['city'].value_counts()\n",
    "cities"
   ]
  },
  {
   "cell_type": "code",
   "execution_count": 75,
   "id": "ed675bba-f02f-435e-87a9-87365969aefc",
   "metadata": {},
   "outputs": [
    {
     "data": {
      "text/plain": [
       "country\n",
       "United States          1397\n",
       "France                  889\n",
       "Malaysia                813\n",
       "England                 745\n",
       "Qatar                   701\n",
       "                       ... \n",
       "Bohemia and Moravia       1\n",
       "Mali Federation           1\n",
       "Belgian Congo             1\n",
       "Portuguese Guinea         1\n",
       "Micronesia                1\n",
       "Name: count, Length: 270, dtype: int64"
      ]
     },
     "execution_count": 75,
     "metadata": {},
     "output_type": "execute_result"
    }
   ],
   "source": [
    "countries=data1['country'].value_counts()\n",
    "countries"
   ]
  },
  {
   "cell_type": "code",
   "execution_count": 76,
   "id": "feb45ffd-5dcd-4835-b601-33fb7c18ff1f",
   "metadata": {},
   "outputs": [],
   "source": [
    "cities.to_csv('MatchCity.csv')\n",
    "countries.to_csv('MatchCountry.csv')"
   ]
  },
  {
   "cell_type": "code",
   "execution_count": 79,
   "id": "3ea56f0d-cb92-43ab-8b71-9a3fc67d4bc4",
   "metadata": {},
   "outputs": [
    {
     "data": {
      "text/html": [
       "<div>\n",
       "<style scoped>\n",
       "    .dataframe tbody tr th:only-of-type {\n",
       "        vertical-align: middle;\n",
       "    }\n",
       "\n",
       "    .dataframe tbody tr th {\n",
       "        vertical-align: top;\n",
       "    }\n",
       "\n",
       "    .dataframe thead th {\n",
       "        text-align: right;\n",
       "    }\n",
       "</style>\n",
       "<table border=\"1\" class=\"dataframe\">\n",
       "  <thead>\n",
       "    <tr style=\"text-align: right;\">\n",
       "      <th></th>\n",
       "      <th>city</th>\n",
       "      <th>count</th>\n",
       "    </tr>\n",
       "  </thead>\n",
       "  <tbody>\n",
       "    <tr>\n",
       "      <th>0</th>\n",
       "      <td>Kuala Lumpur</td>\n",
       "      <td>725</td>\n",
       "    </tr>\n",
       "    <tr>\n",
       "      <th>1</th>\n",
       "      <td>Bangkok</td>\n",
       "      <td>571</td>\n",
       "    </tr>\n",
       "    <tr>\n",
       "      <th>2</th>\n",
       "      <td>Doha</td>\n",
       "      <td>546</td>\n",
       "    </tr>\n",
       "    <tr>\n",
       "      <th>3</th>\n",
       "      <td>London</td>\n",
       "      <td>427</td>\n",
       "    </tr>\n",
       "    <tr>\n",
       "      <th>4</th>\n",
       "      <td>Budapest</td>\n",
       "      <td>423</td>\n",
       "    </tr>\n",
       "  </tbody>\n",
       "</table>\n",
       "</div>"
      ],
      "text/plain": [
       "           city  count\n",
       "0  Kuala Lumpur    725\n",
       "1       Bangkok    571\n",
       "2          Doha    546\n",
       "3        London    427\n",
       "4      Budapest    423"
      ]
     },
     "execution_count": 79,
     "metadata": {},
     "output_type": "execute_result"
    }
   ],
   "source": [
    "city=pd.read_csv('MatchCity.csv')\n",
    "country=pd.read_csv('MatchCountry.csv')\n",
    "\n",
    "topCities=city.loc[0:4]\n",
    "topCities"
   ]
  },
  {
   "cell_type": "code",
   "execution_count": 80,
   "id": "fd5eb7ef-90c1-4014-bb8e-99bafba9aea2",
   "metadata": {},
   "outputs": [
    {
     "data": {
      "text/html": [
       "<div>\n",
       "<style scoped>\n",
       "    .dataframe tbody tr th:only-of-type {\n",
       "        vertical-align: middle;\n",
       "    }\n",
       "\n",
       "    .dataframe tbody tr th {\n",
       "        vertical-align: top;\n",
       "    }\n",
       "\n",
       "    .dataframe thead th {\n",
       "        text-align: right;\n",
       "    }\n",
       "</style>\n",
       "<table border=\"1\" class=\"dataframe\">\n",
       "  <thead>\n",
       "    <tr style=\"text-align: right;\">\n",
       "      <th></th>\n",
       "      <th>country</th>\n",
       "      <th>count</th>\n",
       "    </tr>\n",
       "  </thead>\n",
       "  <tbody>\n",
       "    <tr>\n",
       "      <th>0</th>\n",
       "      <td>United States</td>\n",
       "      <td>1397</td>\n",
       "    </tr>\n",
       "    <tr>\n",
       "      <th>1</th>\n",
       "      <td>France</td>\n",
       "      <td>889</td>\n",
       "    </tr>\n",
       "    <tr>\n",
       "      <th>2</th>\n",
       "      <td>Malaysia</td>\n",
       "      <td>813</td>\n",
       "    </tr>\n",
       "    <tr>\n",
       "      <th>3</th>\n",
       "      <td>England</td>\n",
       "      <td>745</td>\n",
       "    </tr>\n",
       "    <tr>\n",
       "      <th>4</th>\n",
       "      <td>Qatar</td>\n",
       "      <td>701</td>\n",
       "    </tr>\n",
       "    <tr>\n",
       "      <th>5</th>\n",
       "      <td>Thailand</td>\n",
       "      <td>700</td>\n",
       "    </tr>\n",
       "  </tbody>\n",
       "</table>\n",
       "</div>"
      ],
      "text/plain": [
       "         country  count\n",
       "0  United States   1397\n",
       "1         France    889\n",
       "2       Malaysia    813\n",
       "3        England    745\n",
       "4          Qatar    701\n",
       "5       Thailand    700"
      ]
     },
     "execution_count": 80,
     "metadata": {},
     "output_type": "execute_result"
    }
   ],
   "source": [
    "topCountries=country.loc[0:5]\n",
    "topCountries"
   ]
  },
  {
   "cell_type": "code",
   "execution_count": 82,
   "id": "be729f1a-3f4d-471d-89a6-0276166887cf",
   "metadata": {},
   "outputs": [
    {
     "data": {
      "image/png": "[encoded data removed]",
      "text/plain": [
       "<Figure size 640x480 with 1 Axes>"
      ]
     },
     "metadata": {},
     "output_type": "display_data"
    }
   ],
   "source": [
    "#Problem 5 a) solved:\n",
    "x=topCities['city']\n",
    "y=topCities['count']\n",
    "\n",
    "plt.bar(x,y)\n",
    "\n",
    "plt.title('Cities With Most Matches')\n",
    "plt.xlabel('Cities')\n",
    "plt.ylabel('No. of Matches')\n",
    "\n",
    "plt.show()"
   ]
  },
  {
   "cell_type": "code",
   "execution_count": 83,
   "id": "d48c3ad8-368e-4879-8032-e20db2430093",
   "metadata": {},
   "outputs": [
    {
     "data": {
      "image/png": "[encoded data removed]",
      "text/plain": [
       "<Figure size 640x480 with 1 Axes>"
      ]
     },
     "metadata": {},
     "output_type": "display_data"
    }
   ],
   "source": [
    "#Problem 5 b) solved:\n",
    "x=topCountries['country']\n",
    "y=topCountries['count']\n",
    "\n",
    "plt.bar(x,y)\n",
    "\n",
    "plt.title('Countries With Most Matches')\n",
    "plt.xlabel('Countries')\n",
    "plt.ylabel('No. of Matches')\n",
    "\n",
    "plt.show()"
   ]
  },
  {
   "cell_type": "code",
   "execution_count": 86,
   "id": "85558400-f435-4936-b7ca-840d373145bb",
   "metadata": {},
   "outputs": [
    {
     "data": {
      "text/plain": [
       "tournament\n",
       "Friendly                                17978\n",
       "FIFA World Cup qualification             8169\n",
       "UEFA Euro qualification                  2824\n",
       "African Cup of Nations qualification     2124\n",
       "FIFA World Cup                            964\n",
       "                                        ...  \n",
       "TIFOCO Tournament                           1\n",
       "Copa Confraternidad                         1\n",
       "ConIFA Challenger Cup                       1\n",
       "Évence Coppée Trophy                        1\n",
       "Benedikt Fontana Cup                        1\n",
       "Name: count, Length: 175, dtype: int64"
      ]
     },
     "execution_count": 86,
     "metadata": {},
     "output_type": "execute_result"
    }
   ],
   "source": [
    "#Problem 6: Pie Chart of top 5 tournaments with most matches:\n",
    "tournamentdata=data1['tournament'].value_counts()\n",
    "tournamentdata"
   ]
  },
  {
   "cell_type": "code",
   "execution_count": 87,
   "id": "7f3f8627-308c-4c8c-89b1-2883c68e031a",
   "metadata": {},
   "outputs": [],
   "source": [
    "tournamentdata.to_csv('Tournaments.csv')"
   ]
  },
  {
   "cell_type": "code",
   "execution_count": 89,
   "id": "29ee1ea3-884e-4387-9494-6f2cad8f7d54",
   "metadata": {},
   "outputs": [
    {
     "data": {
      "text/html": [
       "<div>\n",
       "<style scoped>\n",
       "    .dataframe tbody tr th:only-of-type {\n",
       "        vertical-align: middle;\n",
       "    }\n",
       "\n",
       "    .dataframe tbody tr th {\n",
       "        vertical-align: top;\n",
       "    }\n",
       "\n",
       "    .dataframe thead th {\n",
       "        text-align: right;\n",
       "    }\n",
       "</style>\n",
       "<table border=\"1\" class=\"dataframe\">\n",
       "  <thead>\n",
       "    <tr style=\"text-align: right;\">\n",
       "      <th></th>\n",
       "      <th>tournament</th>\n",
       "      <th>count</th>\n",
       "    </tr>\n",
       "  </thead>\n",
       "  <tbody>\n",
       "    <tr>\n",
       "      <th>0</th>\n",
       "      <td>Friendly</td>\n",
       "      <td>17978</td>\n",
       "    </tr>\n",
       "    <tr>\n",
       "      <th>1</th>\n",
       "      <td>FIFA World Cup qualification</td>\n",
       "      <td>8169</td>\n",
       "    </tr>\n",
       "    <tr>\n",
       "      <th>2</th>\n",
       "      <td>UEFA Euro qualification</td>\n",
       "      <td>2824</td>\n",
       "    </tr>\n",
       "    <tr>\n",
       "      <th>3</th>\n",
       "      <td>African Cup of Nations qualification</td>\n",
       "      <td>2124</td>\n",
       "    </tr>\n",
       "    <tr>\n",
       "      <th>4</th>\n",
       "      <td>FIFA World Cup</td>\n",
       "      <td>964</td>\n",
       "    </tr>\n",
       "  </tbody>\n",
       "</table>\n",
       "</div>"
      ],
      "text/plain": [
       "                             tournament  count\n",
       "0                              Friendly  17978\n",
       "1          FIFA World Cup qualification   8169\n",
       "2               UEFA Euro qualification   2824\n",
       "3  African Cup of Nations qualification   2124\n",
       "4                        FIFA World Cup    964"
      ]
     },
     "execution_count": 89,
     "metadata": {},
     "output_type": "execute_result"
    }
   ],
   "source": [
    "tournaments=pd.read_csv('Tournaments.csv')\n",
    "\n",
    "topTournaments=tournaments.loc[0:4]\n",
    "topTournaments"
   ]
  },
  {
   "cell_type": "code",
   "execution_count": 92,
   "id": "4636ebd2-194e-454c-9518-a4f57bb6bb1d",
   "metadata": {},
   "outputs": [
    {
     "data": {
      "image/png": "[encoded data removed]",
      "text/plain": [
       "<Figure size 640x480 with 1 Axes>"
      ]
     },
     "metadata": {},
     "output_type": "display_data"
    }
   ],
   "source": [
    "#Problem 6 solved:\n",
    "labels=topTournaments['tournament']\n",
    "size=topTournaments['count']\n",
    "\n",
    "plt.pie(size, labels=labels, autopct='%1.0f%%')\n",
    "\n",
    "plt.show()"
   ]
  }
 ],
 "metadata": {
  "kernelspec": {
   "display_name": "Python 3 (ipykernel)",
   "language": "python",
   "name": "python3"
  },
  "language_info": {
   "codemirror_mode": {
    "name": "ipython",
    "version": 3
   },
   "file_extension": ".py",
   "mimetype": "text/x-python",
   "name": "python",
   "nbconvert_exporter": "python",
   "pygments_lexer": "ipython3",
   "version": "3.12.4"
  }
 },
 "nbformat": 4,
 "nbformat_minor": 5
}
